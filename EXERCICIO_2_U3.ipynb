{
 "cells": [
  {
   "cell_type": "markdown",
   "id": "3e144ed9",
   "metadata": {},
   "source": [
    "# EXERCÍCIO 2"
   ]
  },
  {
   "cell_type": "code",
   "execution_count": null,
   "id": "05ceaa20",
   "metadata": {},
   "outputs": [],
   "source": [
    "!pip install slycot\n",
    "!pip install control"
   ]
  },
  {
   "cell_type": "code",
   "execution_count": null,
   "id": "cf632b91",
   "metadata": {
    "scrolled": true
   },
   "outputs": [],
   "source": [
    "!pip install tbcontrol"
   ]
  },
  {
   "cell_type": "code",
   "execution_count": 1,
   "id": "431dbaf9",
   "metadata": {},
   "outputs": [],
   "source": [
    "from sympy import Symbol, simplify, limit, cancel, fraction, poly, solve, laplace_transform, inverse_laplace_transform, apart, integrate, exp, oo\n",
    "from math import pi\n",
    "from scipy.signal import lsim\n",
    "import matplotlib.pyplot as plt\n",
    "import control.matlab as c\n",
    "from tbcontrol.symbolic import routh\n",
    "import numpy as np"
   ]
  },
  {
   "cell_type": "code",
   "execution_count": 2,
   "id": "f5577483",
   "metadata": {},
   "outputs": [],
   "source": [
    "s = Symbol('s')\n",
    "K = Symbol('K')\n",
    "t = Symbol('t')"
   ]
  },
  {
   "cell_type": "markdown",
   "id": "31ef23f4",
   "metadata": {},
   "source": [
    "## Sistema em malha aberta"
   ]
  },
  {
   "cell_type": "code",
   "execution_count": 3,
   "id": "ae4627ef",
   "metadata": {},
   "outputs": [
    {
     "data": {
      "text/latex": [
       "$\\displaystyle \\frac{K \\left(s + 1\\right)}{s \\left(s - 1\\right) \\left(s^{2} + 4 s + 16\\right)}$"
      ],
      "text/plain": [
       "K*(s + 1)/(s*(s - 1)*(s**2 + 4*s + 16))"
      ]
     },
     "execution_count": 3,
     "metadata": {},
     "output_type": "execute_result"
    }
   ],
   "source": [
    "G = (K*(s+1))/(s*(s-1)*(s**2 + 4*s + 16))\n",
    "G"
   ]
  },
  {
   "cell_type": "code",
   "execution_count": 4,
   "id": "1f5f3b9c",
   "metadata": {},
   "outputs": [
    {
     "data": {
      "text/latex": [
       "$\\displaystyle \\frac{K s + K}{s^{4} + 3 s^{3} + 12 s^{2} - 16 s}$"
      ],
      "text/plain": [
       "(K*s + K)/(s**4 + 3*s**3 + 12*s**2 - 16*s)"
      ]
     },
     "execution_count": 4,
     "metadata": {},
     "output_type": "execute_result"
    }
   ],
   "source": [
    "G = cancel(G)\n",
    "G"
   ]
  },
  {
   "cell_type": "markdown",
   "id": "18dc5e8d",
   "metadata": {},
   "source": [
    "### a) Encontre a faixa de valores de K para os quais o sistema (em malha fechada) é estável"
   ]
  },
  {
   "cell_type": "markdown",
   "id": "ce77cfb8",
   "metadata": {},
   "source": [
    "#### Sistema em malha fechada"
   ]
  },
  {
   "cell_type": "code",
   "execution_count": 5,
   "id": "583d067e",
   "metadata": {},
   "outputs": [
    {
     "data": {
      "text/latex": [
       "$\\displaystyle \\frac{K s + K}{\\left(\\frac{K s + K}{s^{4} + 3 s^{3} + 12 s^{2} - 16 s} + 1\\right) \\left(s^{4} + 3 s^{3} + 12 s^{2} - 16 s\\right)}$"
      ],
      "text/plain": [
       "(K*s + K)/(((K*s + K)/(s**4 + 3*s**3 + 12*s**2 - 16*s) + 1)*(s**4 + 3*s**3 + 12*s**2 - 16*s))"
      ]
     },
     "execution_count": 5,
     "metadata": {},
     "output_type": "execute_result"
    }
   ],
   "source": [
    "Num = G\n",
    "Den = 1+G\n",
    "G_mf = Num/Den\n",
    "G_mf"
   ]
  },
  {
   "cell_type": "code",
   "execution_count": 6,
   "id": "38a96227",
   "metadata": {},
   "outputs": [
    {
     "data": {
      "text/latex": [
       "$\\displaystyle \\frac{K s + K}{K s + K + s^{4} + 3 s^{3} + 12 s^{2} - 16 s}$"
      ],
      "text/plain": [
       "(K*s + K)/(K*s + K + s**4 + 3*s**3 + 12*s**2 - 16*s)"
      ]
     },
     "execution_count": 6,
     "metadata": {},
     "output_type": "execute_result"
    }
   ],
   "source": [
    "G_mf = cancel((Num)/(Den))\n",
    "G_mf"
   ]
  },
  {
   "cell_type": "markdown",
   "id": "8f9b325d",
   "metadata": {},
   "source": [
    "#### Denominador da FT malha fechada"
   ]
  },
  {
   "cell_type": "code",
   "execution_count": 7,
   "id": "8765bb5e",
   "metadata": {},
   "outputs": [],
   "source": [
    "Num, Den = fraction(G_mf)"
   ]
  },
  {
   "cell_type": "code",
   "execution_count": 8,
   "id": "37a58749",
   "metadata": {},
   "outputs": [
    {
     "data": {
      "text/latex": [
       "$\\displaystyle K s + K$"
      ],
      "text/plain": [
       "K*s + K"
      ]
     },
     "execution_count": 8,
     "metadata": {},
     "output_type": "execute_result"
    }
   ],
   "source": [
    "Num"
   ]
  },
  {
   "cell_type": "code",
   "execution_count": 9,
   "id": "e5e91d22",
   "metadata": {},
   "outputs": [
    {
     "data": {
      "text/latex": [
       "$\\displaystyle K s + K + s^{4} + 3 s^{3} + 12 s^{2} - 16 s$"
      ],
      "text/plain": [
       "K*s + K + s**4 + 3*s**3 + 12*s**2 - 16*s"
      ]
     },
     "execution_count": 9,
     "metadata": {},
     "output_type": "execute_result"
    }
   ],
   "source": [
    "# Polinômio característico\n",
    "Den"
   ]
  },
  {
   "cell_type": "markdown",
   "id": "6b92b991",
   "metadata": {},
   "source": [
    "#### Critério de Routh-Hurwitz"
   ]
  },
  {
   "cell_type": "code",
   "execution_count": 10,
   "id": "f6b12bd4",
   "metadata": {},
   "outputs": [
    {
     "data": {
      "text/latex": [
       "$\\displaystyle \\left[\\begin{matrix}1 & 12 & K\\\\3 & K - 16 & 0\\\\\\frac{52}{3} - \\frac{K}{3} & K & 0\\\\\\frac{K^{2} - 59 K + 832}{K - 52} & 0 & 0\\\\K & 0 & 0\\end{matrix}\\right]$"
      ],
      "text/plain": [
       "Matrix([\n",
       "[                           1,     12, K],\n",
       "[                           3, K - 16, 0],\n",
       "[                  52/3 - K/3,      K, 0],\n",
       "[(K**2 - 59*K + 832)/(K - 52),      0, 0],\n",
       "[                           K,      0, 0]])"
      ]
     },
     "execution_count": 10,
     "metadata": {},
     "output_type": "execute_result"
    }
   ],
   "source": [
    "# Verificando estabilidade\n",
    "tab_routh = routh(poly(Den,s))\n",
    "tab_routh"
   ]
  },
  {
   "cell_type": "code",
   "execution_count": 11,
   "id": "fa1fc401",
   "metadata": {},
   "outputs": [
    {
     "name": "stdout",
     "output_type": "stream",
     "text": [
      "Sistema estável se: \n",
      " (0 < K) & (K < 52) & (((52 < K) & (K < oo)) | ((K < 3*sqrt(17)/2 + 59/2) & (59/2 - 3*sqrt(17)/2 < K)))\n"
     ]
    }
   ],
   "source": [
    "K_estab = solve([e > 0 for e in tab_routh[:, 0]], K)\n",
    "print(f'Sistema estável se: \\n {K_estab}')"
   ]
  },
  {
   "cell_type": "code",
   "execution_count": 59,
   "id": "05c5219a",
   "metadata": {},
   "outputs": [
    {
     "data": {
      "text/plain": [
       "35.68465843842649"
      ]
     },
     "execution_count": 59,
     "metadata": {},
     "output_type": "execute_result"
    }
   ],
   "source": [
    "(3*np.sqrt(17))/2 + 59/2"
   ]
  },
  {
   "cell_type": "code",
   "execution_count": 60,
   "id": "754d67f9",
   "metadata": {},
   "outputs": [
    {
     "data": {
      "text/plain": [
       "23.31534156157351"
      ]
     },
     "execution_count": 60,
     "metadata": {},
     "output_type": "execute_result"
    }
   ],
   "source": [
    "-(3*np.sqrt(17))/2 + 59/2"
   ]
  },
  {
   "cell_type": "markdown",
   "id": "8ec1305a",
   "metadata": {},
   "source": [
    "### b) Calcule as constantes 𝐾𝑝, 𝐾𝑣 e 𝐾a"
   ]
  },
  {
   "cell_type": "markdown",
   "id": "4e5eea1e",
   "metadata": {},
   "source": [
    "#### Sistema do tipo 1 (um polo na origem)\n",
    "\n",
    "Constante de erro  | Valor\n",
    ":---------: | :------:\n",
    "Kp | oo\n",
    "Kv | Cte\n",
    "Ka | 0\n"
   ]
  },
  {
   "cell_type": "markdown",
   "id": "03bca9a6",
   "metadata": {},
   "source": [
    "#### Constante de erro de posição"
   ]
  },
  {
   "cell_type": "code",
   "execution_count": 12,
   "id": "b523829e",
   "metadata": {},
   "outputs": [
    {
     "data": {
      "text/latex": [
       "$\\displaystyle - \\infty \\operatorname{sign}{\\left(K \\right)}$"
      ],
      "text/plain": [
       "-oo*sign(K)"
      ]
     },
     "execution_count": 12,
     "metadata": {},
     "output_type": "execute_result"
    }
   ],
   "source": [
    "K_p = limit(G, s, 0)\n",
    "K_p"
   ]
  },
  {
   "cell_type": "markdown",
   "id": "a94de4e2",
   "metadata": {},
   "source": [
    "#### Constante de erro de velocidade"
   ]
  },
  {
   "cell_type": "code",
   "execution_count": 13,
   "id": "84c8c1f2",
   "metadata": {},
   "outputs": [
    {
     "data": {
      "text/latex": [
       "$\\displaystyle - \\frac{K}{16}$"
      ],
      "text/plain": [
       "-K/16"
      ]
     },
     "execution_count": 13,
     "metadata": {},
     "output_type": "execute_result"
    }
   ],
   "source": [
    "K_v = limit(s*G, s, 0)\n",
    "K_v"
   ]
  },
  {
   "cell_type": "markdown",
   "id": "13d5e7e4",
   "metadata": {},
   "source": [
    "#### Constante de erro de aceleração"
   ]
  },
  {
   "cell_type": "code",
   "execution_count": 14,
   "id": "49a82cd4",
   "metadata": {},
   "outputs": [
    {
     "data": {
      "text/latex": [
       "$\\displaystyle 0$"
      ],
      "text/plain": [
       "0"
      ]
     },
     "execution_count": 14,
     "metadata": {},
     "output_type": "execute_result"
    }
   ],
   "source": [
    "K_a = limit(s**2*G, s, 0)\n",
    "K_a"
   ]
  },
  {
   "cell_type": "markdown",
   "id": "bc0a8dc4",
   "metadata": {},
   "source": [
    "### c) Determine o erro de regime para uma entrada 𝑟(𝑡) = 2 + 3𝑡"
   ]
  },
  {
   "cell_type": "markdown",
   "id": "fe311f0e",
   "metadata": {},
   "source": [
    "#### Encontrando R(s)"
   ]
  },
  {
   "cell_type": "code",
   "execution_count": 15,
   "id": "a175302d",
   "metadata": {},
   "outputs": [
    {
     "data": {
      "text/latex": [
       "$\\displaystyle \\frac{2 s + 3}{s^{2}}$"
      ],
      "text/plain": [
       "(2*s + 3)/s**2"
      ]
     },
     "execution_count": 15,
     "metadata": {},
     "output_type": "execute_result"
    }
   ],
   "source": [
    "f = 2 + 3*t\n",
    "R_s = laplace_transform(f, t, s, noconds=True) \n",
    "R_s"
   ]
  },
  {
   "cell_type": "markdown",
   "id": "82c5d621",
   "metadata": {},
   "source": [
    "#### Erro de regime permanente"
   ]
  },
  {
   "cell_type": "code",
   "execution_count": 16,
   "id": "2b7e9d3c",
   "metadata": {},
   "outputs": [
    {
     "data": {
      "text/latex": [
       "$\\displaystyle - \\frac{48}{K}$"
      ],
      "text/plain": [
       "-48/K"
      ]
     },
     "execution_count": 16,
     "metadata": {},
     "output_type": "execute_result"
    }
   ],
   "source": [
    "ess = limit(s*((1-G_mf)*R_s), s, 0)\n",
    "ess"
   ]
  },
  {
   "cell_type": "markdown",
   "id": "f9a31d86",
   "metadata": {},
   "source": [
    "### d) Para 𝐾 = 32, plote a resposta do sistema (em malha fechada) para 𝑟(𝑡) = 2 + 3𝑡; compare o resultado do erro de regime permanente obtido da simulação e pela fórmula"
   ]
  },
  {
   "cell_type": "markdown",
   "id": "fc04b517",
   "metadata": {},
   "source": [
    "#### Sistema em malha aberta"
   ]
  },
  {
   "cell_type": "code",
   "execution_count": 17,
   "id": "1d8f9c8d",
   "metadata": {},
   "outputs": [
    {
     "data": {
      "text/latex": [
       "$\\displaystyle \\frac{32 s + 32}{s \\left(s - 1\\right) \\left(s^{2} + 4 s + 16\\right)}$"
      ],
      "text/plain": [
       "(32*s + 32)/(s*(s - 1)*(s**2 + 4*s + 16))"
      ]
     },
     "execution_count": 17,
     "metadata": {},
     "output_type": "execute_result"
    }
   ],
   "source": [
    "G = (32*(s+1))/(s*(s-1)*(s**2 + 4*s + 16))\n",
    "G"
   ]
  },
  {
   "cell_type": "markdown",
   "id": "cfaac485",
   "metadata": {},
   "source": [
    "#### Sistema em malha fechada"
   ]
  },
  {
   "cell_type": "code",
   "execution_count": 18,
   "id": "5497d015",
   "metadata": {},
   "outputs": [
    {
     "data": {
      "text/latex": [
       "$\\displaystyle \\frac{32 s + 32}{s^{4} + 3 s^{3} + 12 s^{2} + 16 s + 32}$"
      ],
      "text/plain": [
       "(32*s + 32)/(s**4 + 3*s**3 + 12*s**2 + 16*s + 32)"
      ]
     },
     "execution_count": 18,
     "metadata": {},
     "output_type": "execute_result"
    }
   ],
   "source": [
    "# Simplificando\n",
    "G_mf = cancel((G)/(1+G))\n",
    "G_mf"
   ]
  },
  {
   "cell_type": "markdown",
   "id": "72274c70",
   "metadata": {},
   "source": [
    "#### Fórmula - Erro de regime permanente"
   ]
  },
  {
   "cell_type": "code",
   "execution_count": 19,
   "id": "c76726cb",
   "metadata": {},
   "outputs": [
    {
     "data": {
      "text/latex": [
       "$\\displaystyle \\left[\\begin{matrix}1 & 12 & 32\\\\3 & 16 & 0\\\\\\frac{20}{3} & 32 & 0\\\\\\frac{8}{5} & 0 & 0\\\\32 & 0 & 0\\end{matrix}\\right]$"
      ],
      "text/plain": [
       "Matrix([\n",
       "[   1, 12, 32],\n",
       "[   3, 16,  0],\n",
       "[20/3, 32,  0],\n",
       "[ 8/5,  0,  0],\n",
       "[  32,  0,  0]])"
      ]
     },
     "execution_count": 19,
     "metadata": {},
     "output_type": "execute_result"
    }
   ],
   "source": [
    "# Verificando estabilidade\n",
    "Num, Den = fraction(G_mf)\n",
    "tab_routh = routh(poly(Den,s))\n",
    "tab_routh"
   ]
  },
  {
   "cell_type": "code",
   "execution_count": 20,
   "id": "ec68cdc6",
   "metadata": {},
   "outputs": [
    {
     "data": {
      "text/latex": [
       "$\\displaystyle - \\frac{3}{2}$"
      ],
      "text/plain": [
       "-3/2"
      ]
     },
     "execution_count": 20,
     "metadata": {},
     "output_type": "execute_result"
    }
   ],
   "source": [
    "# Erro de regime permanente\n",
    "ess = limit(s*(1-G_mf)*R_s, s, 0)\n",
    "ess"
   ]
  },
  {
   "cell_type": "markdown",
   "id": "d3e2267a",
   "metadata": {},
   "source": [
    "#### Gráfico - Resposta do sistema (em malha fechada) para 𝑟(𝑡) = 2 + 3𝑡"
   ]
  },
  {
   "cell_type": "code",
   "execution_count": 21,
   "id": "3bb93237",
   "metadata": {},
   "outputs": [],
   "source": [
    "K = 32\n",
    "Num = [K, K]\n",
    "Den = [1, 3, 12, 16, 32]\n",
    "G_mf = c.tf(Num,Den)"
   ]
  },
  {
   "cell_type": "code",
   "execution_count": 23,
   "id": "effbdada",
   "metadata": {},
   "outputs": [],
   "source": [
    "r = 2 + 3*t\n",
    "t = np.arange(0,100,0.1)\n",
    "t, y_sinal, x_sinal = lsim((Num, Den), r, t)"
   ]
  },
  {
   "cell_type": "code",
   "execution_count": 54,
   "id": "10fc8d3b",
   "metadata": {},
   "outputs": [
    {
     "data": {
      "image/png": "[encoded data removed]",
      "text/plain": [
       "<Figure size 432x288 with 1 Axes>"
      ]
     },
     "metadata": {
      "needs_background": "light"
     },
     "output_type": "display_data"
    }
   ],
   "source": [
    "plt.xlabel('time (s)')\n",
    "plt.ylabel('Amplitude')\n",
    "plt.title('Response')\n",
    "\n",
    "n = 500\n",
    "plt.plot(t[0:n], y_sinal[0:n])\n",
    "plt.plot(t[0:n], r[0:n],'g--')\n",
    "\n",
    "plt.show()"
   ]
  },
  {
   "cell_type": "code",
   "execution_count": 57,
   "id": "a7e3cfeb",
   "metadata": {},
   "outputs": [
    {
     "data": {
      "text/plain": [
       "[<matplotlib.lines.Line2D at 0x1bbc06f1bb0>]"
      ]
     },
     "execution_count": 57,
     "metadata": {},
     "output_type": "execute_result"
    },
    {
     "data": {
      "image/png": "[encoded data removed]",
      "text/plain": [
       "<Figure size 432x288 with 1 Axes>"
      ]
     },
     "metadata": {
      "needs_background": "light"
     },
     "output_type": "display_data"
    }
   ],
   "source": [
    "erro_sinal = np.transpose(r) - y_sinal\n",
    "plt.plot(erro_sinal)"
   ]
  },
  {
   "cell_type": "code",
   "execution_count": 58,
   "id": "18c71f3e",
   "metadata": {},
   "outputs": [
    {
     "data": {
      "text/plain": [
       "-1.5000130553533495"
      ]
     },
     "execution_count": 58,
     "metadata": {},
     "output_type": "execute_result"
    }
   ],
   "source": [
    "erro_sinal[-1]"
   ]
  }
 ],
 "metadata": {
  "kernelspec": {
   "display_name": "Python 3 (ipykernel)",
   "language": "python",
   "name": "python3"
  },
  "language_info": {
   "codemirror_mode": {
    "name": "ipython",
    "version": 3
   },
   "file_extension": ".py",
   "mimetype": "text/x-python",
   "name": "python",
   "nbconvert_exporter": "python",
   "pygments_lexer": "ipython3",
   "version": "3.9.7"
  }
 },
 "nbformat": 4,
 "nbformat_minor": 5
}
